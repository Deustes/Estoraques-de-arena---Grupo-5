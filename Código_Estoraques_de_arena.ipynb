{
  "nbformat": 4,
  "nbformat_minor": 0,
  "metadata": {
    "colab": {
      "provenance": [],
      "toc_visible": true,
      "authorship_tag": "ABX9TyNjWJruYZ32uWKZDm6JlH1N",
      "include_colab_link": true
    },
    "kernelspec": {
      "name": "python3",
      "display_name": "Python 3"
    },
    "language_info": {
      "name": "python"
    }
  },
  "cells": [
    {
      "cell_type": "markdown",
      "metadata": {
        "id": "view-in-github",
        "colab_type": "text"
      },
      "source": [
        "<a href=\"https://colab.research.google.com/github/Deustes/Estoraques-de-arena---Grupo-5/blob/main/C%C3%B3digo_Estoraques_de_arena.ipynb\" target=\"_parent\"><img src=\"https://colab.research.google.com/assets/colab-badge.svg\" alt=\"Open In Colab\"/></a>"
      ]
    },
    {
      "cell_type": "code",
      "execution_count": 9,
      "metadata": {
        "colab": {
          "base_uri": "https://localhost:8080/"
        },
        "id": "GLFSa3iNyxcI",
        "outputId": "14546ca5-a8eb-488c-a4b3-3784079296a7"
      },
      "outputs": [
        {
          "output_type": "stream",
          "name": "stdout",
          "text": [
            "Que Núñez se apiade de nosotros :(\n"
          ]
        }
      ],
      "source": [
        "print(\"Que Núñez se apiade de nosotros :(\")"
      ]
    }
  ]
}